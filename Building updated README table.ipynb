{
 "cells": [
  {
   "cell_type": "code",
   "execution_count": 18,
   "metadata": {},
   "outputs": [],
   "source": [
    "from glob import glob\n",
    "import pandas as pd\n",
    "import os\n",
    "from sanitize_ml_labels import sanitize_ml_labels\n",
    "from tabulate import tabulate"
   ]
  },
  {
   "cell_type": "code",
   "execution_count": 15,
   "metadata": {},
   "outputs": [],
   "source": [
    "url = \"`Download <https://github.com/LucaCappelletti94/epigenomic_dataset/blob/master/{}?raw=true>`__\"\n"
   ]
  },
  {
   "cell_type": "code",
   "execution_count": 17,
   "metadata": {},
   "outputs": [],
   "source": [
    "results = []\n",
    "for path in glob(\"preprocessed/**/*.csv.xz\", recursive=True):\n",
    "    _, dataset, assembly, window_size, region, cell_line = path.split(os.sep)\n",
    "    cell_line = cell_line.split(\".\")[0]\n",
    "    results.append({\n",
    "        \"Dataset\": dataset,\n",
    "        \"Assembly\": assembly,\n",
    "        \"Window Size\": window_size,\n",
    "        \"Region\": region,\n",
    "        \"Cell line\": cell_line,\n",
    "        \"Download URL\": url.format(path)\n",
    "    })\n",
    "df = pd.DataFrame(results)"
   ]
  },
  {
   "cell_type": "code",
   "execution_count": 19,
   "metadata": {},
   "outputs": [
    {
     "data": {
      "text/plain": [
       "'--  ------  ----  ----  ---------  -------  --------------------------------------------------------------------------------------------------------------------------------------------------\\n 0  fantom  hg38   256  promoters  GM12878  `Download <https://github.com/LucaCappelletti94/epigenomic_dataset/blob/master/preprocessed/fantom/hg38/256/promoters/GM12878.csv.xz?raw=true>`__\\n 1  fantom  hg38   256  promoters  A549     `Download <https://github.com/LucaCappelletti94/epigenomic_dataset/blob/master/preprocessed/fantom/hg38/256/promoters/A549.csv.xz?raw=true>`__\\n 2  fantom  hg38   256  promoters  HEK293   `Download <https://github.com/LucaCappelletti94/epigenomic_dataset/blob/master/preprocessed/fantom/hg38/256/promoters/HEK293.csv.xz?raw=true>`__\\n 3  fantom  hg38   256  promoters  HepG2    `Download <https://github.com/LucaCappelletti94/epigenomic_dataset/blob/master/preprocessed/fantom/hg38/256/promoters/HepG2.csv.xz?raw=true>`__\\n 4  fantom  hg38   256  promoters  K562     `Download <https://github.com/LucaCappelletti94/epigenomic_dataset/blob/master/preprocessed/fantom/hg38/256/promoters/K562.csv.xz?raw=true>`__\\n 5  fantom  hg38   256  promoters  H1       `Download <https://github.com/LucaCappelletti94/epigenomic_dataset/blob/master/preprocessed/fantom/hg38/256/promoters/H1.csv.xz?raw=true>`__\\n 6  fantom  hg38   256  promoters  MCF-7    `Download <https://github.com/LucaCappelletti94/epigenomic_dataset/blob/master/preprocessed/fantom/hg38/256/promoters/MCF-7.csv.xz?raw=true>`__\\n 7  fantom  hg38   256  enhancers  GM12878  `Download <https://github.com/LucaCappelletti94/epigenomic_dataset/blob/master/preprocessed/fantom/hg38/256/enhancers/GM12878.csv.xz?raw=true>`__\\n 8  fantom  hg38   256  enhancers  A549     `Download <https://github.com/LucaCappelletti94/epigenomic_dataset/blob/master/preprocessed/fantom/hg38/256/enhancers/A549.csv.xz?raw=true>`__\\n 9  fantom  hg38   256  enhancers  HEK293   `Download <https://github.com/LucaCappelletti94/epigenomic_dataset/blob/master/preprocessed/fantom/hg38/256/enhancers/HEK293.csv.xz?raw=true>`__\\n10  fantom  hg38   256  enhancers  HepG2    `Download <https://github.com/LucaCappelletti94/epigenomic_dataset/blob/master/preprocessed/fantom/hg38/256/enhancers/HepG2.csv.xz?raw=true>`__\\n11  fantom  hg38   256  enhancers  K562     `Download <https://github.com/LucaCappelletti94/epigenomic_dataset/blob/master/preprocessed/fantom/hg38/256/enhancers/K562.csv.xz?raw=true>`__\\n12  fantom  hg38   256  enhancers  H1       `Download <https://github.com/LucaCappelletti94/epigenomic_dataset/blob/master/preprocessed/fantom/hg38/256/enhancers/H1.csv.xz?raw=true>`__\\n13  fantom  hg38   256  enhancers  MCF-7    `Download <https://github.com/LucaCappelletti94/epigenomic_dataset/blob/master/preprocessed/fantom/hg38/256/enhancers/MCF-7.csv.xz?raw=true>`__\\n14  fantom  hg38   128  promoters  GM12878  `Download <https://github.com/LucaCappelletti94/epigenomic_dataset/blob/master/preprocessed/fantom/hg38/128/promoters/GM12878.csv.xz?raw=true>`__\\n15  fantom  hg38   128  promoters  A549     `Download <https://github.com/LucaCappelletti94/epigenomic_dataset/blob/master/preprocessed/fantom/hg38/128/promoters/A549.csv.xz?raw=true>`__\\n16  fantom  hg38   128  promoters  HEK293   `Download <https://github.com/LucaCappelletti94/epigenomic_dataset/blob/master/preprocessed/fantom/hg38/128/promoters/HEK293.csv.xz?raw=true>`__\\n17  fantom  hg38   128  promoters  HepG2    `Download <https://github.com/LucaCappelletti94/epigenomic_dataset/blob/master/preprocessed/fantom/hg38/128/promoters/HepG2.csv.xz?raw=true>`__\\n18  fantom  hg38   128  promoters  K562     `Download <https://github.com/LucaCappelletti94/epigenomic_dataset/blob/master/preprocessed/fantom/hg38/128/promoters/K562.csv.xz?raw=true>`__\\n19  fantom  hg38   128  promoters  H1       `Download <https://github.com/LucaCappelletti94/epigenomic_dataset/blob/master/preprocessed/fantom/hg38/128/promoters/H1.csv.xz?raw=true>`__\\n20  fantom  hg38   128  promoters  MCF-7    `Download <https://github.com/LucaCappelletti94/epigenomic_dataset/blob/master/preprocessed/fantom/hg38/128/promoters/MCF-7.csv.xz?raw=true>`__\\n21  fantom  hg38   128  enhancers  GM12878  `Download <https://github.com/LucaCappelletti94/epigenomic_dataset/blob/master/preprocessed/fantom/hg38/128/enhancers/GM12878.csv.xz?raw=true>`__\\n22  fantom  hg38   128  enhancers  A549     `Download <https://github.com/LucaCappelletti94/epigenomic_dataset/blob/master/preprocessed/fantom/hg38/128/enhancers/A549.csv.xz?raw=true>`__\\n23  fantom  hg38   128  enhancers  HEK293   `Download <https://github.com/LucaCappelletti94/epigenomic_dataset/blob/master/preprocessed/fantom/hg38/128/enhancers/HEK293.csv.xz?raw=true>`__\\n24  fantom  hg38   128  enhancers  HepG2    `Download <https://github.com/LucaCappelletti94/epigenomic_dataset/blob/master/preprocessed/fantom/hg38/128/enhancers/HepG2.csv.xz?raw=true>`__\\n25  fantom  hg38   128  enhancers  K562     `Download <https://github.com/LucaCappelletti94/epigenomic_dataset/blob/master/preprocessed/fantom/hg38/128/enhancers/K562.csv.xz?raw=true>`__\\n26  fantom  hg38   128  enhancers  H1       `Download <https://github.com/LucaCappelletti94/epigenomic_dataset/blob/master/preprocessed/fantom/hg38/128/enhancers/H1.csv.xz?raw=true>`__\\n27  fantom  hg38   128  enhancers  MCF-7    `Download <https://github.com/LucaCappelletti94/epigenomic_dataset/blob/master/preprocessed/fantom/hg38/128/enhancers/MCF-7.csv.xz?raw=true>`__\\n28  fantom  hg38    64  promoters  GM12878  `Download <https://github.com/LucaCappelletti94/epigenomic_dataset/blob/master/preprocessed/fantom/hg38/64/promoters/GM12878.csv.xz?raw=true>`__\\n29  fantom  hg38    64  promoters  A549     `Download <https://github.com/LucaCappelletti94/epigenomic_dataset/blob/master/preprocessed/fantom/hg38/64/promoters/A549.csv.xz?raw=true>`__\\n30  fantom  hg38    64  promoters  HEK293   `Download <https://github.com/LucaCappelletti94/epigenomic_dataset/blob/master/preprocessed/fantom/hg38/64/promoters/HEK293.csv.xz?raw=true>`__\\n31  fantom  hg38    64  promoters  HepG2    `Download <https://github.com/LucaCappelletti94/epigenomic_dataset/blob/master/preprocessed/fantom/hg38/64/promoters/HepG2.csv.xz?raw=true>`__\\n32  fantom  hg38    64  promoters  K562     `Download <https://github.com/LucaCappelletti94/epigenomic_dataset/blob/master/preprocessed/fantom/hg38/64/promoters/K562.csv.xz?raw=true>`__\\n33  fantom  hg38    64  promoters  H1       `Download <https://github.com/LucaCappelletti94/epigenomic_dataset/blob/master/preprocessed/fantom/hg38/64/promoters/H1.csv.xz?raw=true>`__\\n34  fantom  hg38    64  promoters  MCF-7    `Download <https://github.com/LucaCappelletti94/epigenomic_dataset/blob/master/preprocessed/fantom/hg38/64/promoters/MCF-7.csv.xz?raw=true>`__\\n35  fantom  hg38    64  enhancers  GM12878  `Download <https://github.com/LucaCappelletti94/epigenomic_dataset/blob/master/preprocessed/fantom/hg38/64/enhancers/GM12878.csv.xz?raw=true>`__\\n36  fantom  hg38    64  enhancers  A549     `Download <https://github.com/LucaCappelletti94/epigenomic_dataset/blob/master/preprocessed/fantom/hg38/64/enhancers/A549.csv.xz?raw=true>`__\\n37  fantom  hg38    64  enhancers  HEK293   `Download <https://github.com/LucaCappelletti94/epigenomic_dataset/blob/master/preprocessed/fantom/hg38/64/enhancers/HEK293.csv.xz?raw=true>`__\\n38  fantom  hg38    64  enhancers  HepG2    `Download <https://github.com/LucaCappelletti94/epigenomic_dataset/blob/master/preprocessed/fantom/hg38/64/enhancers/HepG2.csv.xz?raw=true>`__\\n39  fantom  hg38    64  enhancers  K562     `Download <https://github.com/LucaCappelletti94/epigenomic_dataset/blob/master/preprocessed/fantom/hg38/64/enhancers/K562.csv.xz?raw=true>`__\\n40  fantom  hg38    64  enhancers  H1       `Download <https://github.com/LucaCappelletti94/epigenomic_dataset/blob/master/preprocessed/fantom/hg38/64/enhancers/H1.csv.xz?raw=true>`__\\n41  fantom  hg38    64  enhancers  MCF-7    `Download <https://github.com/LucaCappelletti94/epigenomic_dataset/blob/master/preprocessed/fantom/hg38/64/enhancers/MCF-7.csv.xz?raw=true>`__\\n42  fantom  hg38  1024  promoters  GM12878  `Download <https://github.com/LucaCappelletti94/epigenomic_dataset/blob/master/preprocessed/fantom/hg38/1024/promoters/GM12878.csv.xz?raw=true>`__\\n43  fantom  hg38  1024  promoters  A549     `Download <https://github.com/LucaCappelletti94/epigenomic_dataset/blob/master/preprocessed/fantom/hg38/1024/promoters/A549.csv.xz?raw=true>`__\\n44  fantom  hg38  1024  promoters  HEK293   `Download <https://github.com/LucaCappelletti94/epigenomic_dataset/blob/master/preprocessed/fantom/hg38/1024/promoters/HEK293.csv.xz?raw=true>`__\\n45  fantom  hg38  1024  promoters  HepG2    `Download <https://github.com/LucaCappelletti94/epigenomic_dataset/blob/master/preprocessed/fantom/hg38/1024/promoters/HepG2.csv.xz?raw=true>`__\\n46  fantom  hg38  1024  promoters  K562     `Download <https://github.com/LucaCappelletti94/epigenomic_dataset/blob/master/preprocessed/fantom/hg38/1024/promoters/K562.csv.xz?raw=true>`__\\n47  fantom  hg38  1024  promoters  H1       `Download <https://github.com/LucaCappelletti94/epigenomic_dataset/blob/master/preprocessed/fantom/hg38/1024/promoters/H1.csv.xz?raw=true>`__\\n48  fantom  hg38  1024  promoters  MCF-7    `Download <https://github.com/LucaCappelletti94/epigenomic_dataset/blob/master/preprocessed/fantom/hg38/1024/promoters/MCF-7.csv.xz?raw=true>`__\\n49  fantom  hg38  1024  enhancers  GM12878  `Download <https://github.com/LucaCappelletti94/epigenomic_dataset/blob/master/preprocessed/fantom/hg38/1024/enhancers/GM12878.csv.xz?raw=true>`__\\n50  fantom  hg38  1024  enhancers  A549     `Download <https://github.com/LucaCappelletti94/epigenomic_dataset/blob/master/preprocessed/fantom/hg38/1024/enhancers/A549.csv.xz?raw=true>`__\\n51  fantom  hg38  1024  enhancers  HEK293   `Download <https://github.com/LucaCappelletti94/epigenomic_dataset/blob/master/preprocessed/fantom/hg38/1024/enhancers/HEK293.csv.xz?raw=true>`__\\n52  fantom  hg38  1024  enhancers  HepG2    `Download <https://github.com/LucaCappelletti94/epigenomic_dataset/blob/master/preprocessed/fantom/hg38/1024/enhancers/HepG2.csv.xz?raw=true>`__\\n53  fantom  hg38  1024  enhancers  K562     `Download <https://github.com/LucaCappelletti94/epigenomic_dataset/blob/master/preprocessed/fantom/hg38/1024/enhancers/K562.csv.xz?raw=true>`__\\n54  fantom  hg38  1024  enhancers  H1       `Download <https://github.com/LucaCappelletti94/epigenomic_dataset/blob/master/preprocessed/fantom/hg38/1024/enhancers/H1.csv.xz?raw=true>`__\\n55  fantom  hg38  1024  enhancers  MCF-7    `Download <https://github.com/LucaCappelletti94/epigenomic_dataset/blob/master/preprocessed/fantom/hg38/1024/enhancers/MCF-7.csv.xz?raw=true>`__\\n56  fantom  hg38   512  promoters  GM12878  `Download <https://github.com/LucaCappelletti94/epigenomic_dataset/blob/master/preprocessed/fantom/hg38/512/promoters/GM12878.csv.xz?raw=true>`__\\n57  fantom  hg38   512  promoters  A549     `Download <https://github.com/LucaCappelletti94/epigenomic_dataset/blob/master/preprocessed/fantom/hg38/512/promoters/A549.csv.xz?raw=true>`__\\n58  fantom  hg38   512  promoters  HEK293   `Download <https://github.com/LucaCappelletti94/epigenomic_dataset/blob/master/preprocessed/fantom/hg38/512/promoters/HEK293.csv.xz?raw=true>`__\\n59  fantom  hg38   512  promoters  HepG2    `Download <https://github.com/LucaCappelletti94/epigenomic_dataset/blob/master/preprocessed/fantom/hg38/512/promoters/HepG2.csv.xz?raw=true>`__\\n60  fantom  hg38   512  promoters  K562     `Download <https://github.com/LucaCappelletti94/epigenomic_dataset/blob/master/preprocessed/fantom/hg38/512/promoters/K562.csv.xz?raw=true>`__\\n61  fantom  hg38   512  promoters  H1       `Download <https://github.com/LucaCappelletti94/epigenomic_dataset/blob/master/preprocessed/fantom/hg38/512/promoters/H1.csv.xz?raw=true>`__\\n62  fantom  hg38   512  promoters  MCF-7    `Download <https://github.com/LucaCappelletti94/epigenomic_dataset/blob/master/preprocessed/fantom/hg38/512/promoters/MCF-7.csv.xz?raw=true>`__\\n63  fantom  hg38   512  enhancers  GM12878  `Download <https://github.com/LucaCappelletti94/epigenomic_dataset/blob/master/preprocessed/fantom/hg38/512/enhancers/GM12878.csv.xz?raw=true>`__\\n64  fantom  hg38   512  enhancers  A549     `Download <https://github.com/LucaCappelletti94/epigenomic_dataset/blob/master/preprocessed/fantom/hg38/512/enhancers/A549.csv.xz?raw=true>`__\\n65  fantom  hg38   512  enhancers  HEK293   `Download <https://github.com/LucaCappelletti94/epigenomic_dataset/blob/master/preprocessed/fantom/hg38/512/enhancers/HEK293.csv.xz?raw=true>`__\\n66  fantom  hg38   512  enhancers  HepG2    `Download <https://github.com/LucaCappelletti94/epigenomic_dataset/blob/master/preprocessed/fantom/hg38/512/enhancers/HepG2.csv.xz?raw=true>`__\\n67  fantom  hg38   512  enhancers  K562     `Download <https://github.com/LucaCappelletti94/epigenomic_dataset/blob/master/preprocessed/fantom/hg38/512/enhancers/K562.csv.xz?raw=true>`__\\n68  fantom  hg38   512  enhancers  H1       `Download <https://github.com/LucaCappelletti94/epigenomic_dataset/blob/master/preprocessed/fantom/hg38/512/enhancers/H1.csv.xz?raw=true>`__\\n69  fantom  hg38   512  enhancers  MCF-7    `Download <https://github.com/LucaCappelletti94/epigenomic_dataset/blob/master/preprocessed/fantom/hg38/512/enhancers/MCF-7.csv.xz?raw=true>`__\\n--  ------  ----  ----  ---------  -------  --------------------------------------------------------------------------------------------------------------------------------------------------'"
      ]
     },
     "execution_count": 19,
     "metadata": {},
     "output_type": "execute_result"
    }
   ],
   "source": [
    "tabulate(df, headers=)"
   ]
  },
  {
   "cell_type": "code",
   "execution_count": null,
   "metadata": {},
   "outputs": [],
   "source": []
  }
 ],
 "metadata": {
  "kernelspec": {
   "display_name": "Python 3",
   "language": "python",
   "name": "python3"
  },
  "language_info": {
   "codemirror_mode": {
    "name": "ipython",
    "version": 3
   },
   "file_extension": ".py",
   "mimetype": "text/x-python",
   "name": "python",
   "nbconvert_exporter": "python",
   "pygments_lexer": "ipython3",
   "version": "3.7.6"
  }
 },
 "nbformat": 4,
 "nbformat_minor": 4
}

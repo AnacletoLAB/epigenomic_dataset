{
 "cells": [
  {
   "cell_type": "code",
   "execution_count": 18,
   "metadata": {},
   "outputs": [],
   "source": [
    "from glob import glob\n",
    "import pandas as pd\n",
    "import os\n",
    "from sanitize_ml_labels import sanitize_ml_labels\n",
    "from tabulate import tabulate"
   ]
  },
  {
   "cell_type": "code",
   "execution_count": 15,
   "metadata": {},
   "outputs": [],
   "source": [
    "url = \"`Download <https://github.com/LucaCappelletti94/epigenomic_dataset/blob/master/{}?raw=true>`__\"\n"
   ]
  },
  {
   "cell_type": "code",
   "execution_count": 24,
   "metadata": {},
   "outputs": [],
   "source": [
    "results = []\n",
    "for path in glob(\"preprocessed/**/*.csv.xz\", recursive=True):\n",
    "    _, dataset, assembly, window_size, region, cell_line = path.split(os.sep)\n",
    "    cell_line = cell_line.split(\".\")[0]\n",
    "    results.append({\n",
    "        \"Dataset\": dataset,\n",
    "        \"Assembly\": assembly,\n",
    "        \"Window Size\": int(window_size),\n",
    "        \"Region\": region,\n",
    "        \"Cell line\": cell_line,\n",
    "        \"Download URL\": url.format(path)\n",
    "    })\n",
    "df = pd.DataFrame(results)\n",
    "df = df.sort_values(\"Window Size\")"
   ]
  },
  {
   "cell_type": "code",
   "execution_count": 25,
   "metadata": {},
   "outputs": [
    {
     "name": "stdout",
     "output_type": "stream",
     "text": [
      "=========  ==========  =============  =========  ===========  ==================================================================================================================================================\n",
      "Dataset    Assembly      Window Size  Region     Cell line    Download URL\n",
      "=========  ==========  =============  =========  ===========  ==================================================================================================================================================\n",
      "fantom     hg38                   64  promoters  MCF-7        `Download <https://github.com/LucaCappelletti94/epigenomic_dataset/blob/master/preprocessed/fantom/hg38/64/promoters/MCF-7.csv.xz?raw=true>`__\n",
      "fantom     hg38                   64  promoters  A549         `Download <https://github.com/LucaCappelletti94/epigenomic_dataset/blob/master/preprocessed/fantom/hg38/64/promoters/A549.csv.xz?raw=true>`__\n",
      "fantom     hg38                   64  promoters  HEK293       `Download <https://github.com/LucaCappelletti94/epigenomic_dataset/blob/master/preprocessed/fantom/hg38/64/promoters/HEK293.csv.xz?raw=true>`__\n",
      "fantom     hg38                   64  promoters  HepG2        `Download <https://github.com/LucaCappelletti94/epigenomic_dataset/blob/master/preprocessed/fantom/hg38/64/promoters/HepG2.csv.xz?raw=true>`__\n",
      "fantom     hg38                   64  promoters  K562         `Download <https://github.com/LucaCappelletti94/epigenomic_dataset/blob/master/preprocessed/fantom/hg38/64/promoters/K562.csv.xz?raw=true>`__\n",
      "fantom     hg38                   64  promoters  H1           `Download <https://github.com/LucaCappelletti94/epigenomic_dataset/blob/master/preprocessed/fantom/hg38/64/promoters/H1.csv.xz?raw=true>`__\n",
      "fantom     hg38                   64  enhancers  GM12878      `Download <https://github.com/LucaCappelletti94/epigenomic_dataset/blob/master/preprocessed/fantom/hg38/64/enhancers/GM12878.csv.xz?raw=true>`__\n",
      "fantom     hg38                   64  promoters  GM12878      `Download <https://github.com/LucaCappelletti94/epigenomic_dataset/blob/master/preprocessed/fantom/hg38/64/promoters/GM12878.csv.xz?raw=true>`__\n",
      "fantom     hg38                   64  enhancers  HEK293       `Download <https://github.com/LucaCappelletti94/epigenomic_dataset/blob/master/preprocessed/fantom/hg38/64/enhancers/HEK293.csv.xz?raw=true>`__\n",
      "fantom     hg38                   64  enhancers  HepG2        `Download <https://github.com/LucaCappelletti94/epigenomic_dataset/blob/master/preprocessed/fantom/hg38/64/enhancers/HepG2.csv.xz?raw=true>`__\n",
      "fantom     hg38                   64  enhancers  K562         `Download <https://github.com/LucaCappelletti94/epigenomic_dataset/blob/master/preprocessed/fantom/hg38/64/enhancers/K562.csv.xz?raw=true>`__\n",
      "fantom     hg38                   64  enhancers  H1           `Download <https://github.com/LucaCappelletti94/epigenomic_dataset/blob/master/preprocessed/fantom/hg38/64/enhancers/H1.csv.xz?raw=true>`__\n",
      "fantom     hg38                   64  enhancers  MCF-7        `Download <https://github.com/LucaCappelletti94/epigenomic_dataset/blob/master/preprocessed/fantom/hg38/64/enhancers/MCF-7.csv.xz?raw=true>`__\n",
      "fantom     hg38                   64  enhancers  A549         `Download <https://github.com/LucaCappelletti94/epigenomic_dataset/blob/master/preprocessed/fantom/hg38/64/enhancers/A549.csv.xz?raw=true>`__\n",
      "fantom     hg38                  128  enhancers  K562         `Download <https://github.com/LucaCappelletti94/epigenomic_dataset/blob/master/preprocessed/fantom/hg38/128/enhancers/K562.csv.xz?raw=true>`__\n",
      "fantom     hg38                  128  enhancers  HepG2        `Download <https://github.com/LucaCappelletti94/epigenomic_dataset/blob/master/preprocessed/fantom/hg38/128/enhancers/HepG2.csv.xz?raw=true>`__\n",
      "fantom     hg38                  128  enhancers  HEK293       `Download <https://github.com/LucaCappelletti94/epigenomic_dataset/blob/master/preprocessed/fantom/hg38/128/enhancers/HEK293.csv.xz?raw=true>`__\n",
      "fantom     hg38                  128  enhancers  A549         `Download <https://github.com/LucaCappelletti94/epigenomic_dataset/blob/master/preprocessed/fantom/hg38/128/enhancers/A549.csv.xz?raw=true>`__\n",
      "fantom     hg38                  128  enhancers  GM12878      `Download <https://github.com/LucaCappelletti94/epigenomic_dataset/blob/master/preprocessed/fantom/hg38/128/enhancers/GM12878.csv.xz?raw=true>`__\n",
      "fantom     hg38                  128  promoters  MCF-7        `Download <https://github.com/LucaCappelletti94/epigenomic_dataset/blob/master/preprocessed/fantom/hg38/128/promoters/MCF-7.csv.xz?raw=true>`__\n",
      "fantom     hg38                  128  promoters  HepG2        `Download <https://github.com/LucaCappelletti94/epigenomic_dataset/blob/master/preprocessed/fantom/hg38/128/promoters/HepG2.csv.xz?raw=true>`__\n",
      "fantom     hg38                  128  promoters  K562         `Download <https://github.com/LucaCappelletti94/epigenomic_dataset/blob/master/preprocessed/fantom/hg38/128/promoters/K562.csv.xz?raw=true>`__\n",
      "fantom     hg38                  128  promoters  HEK293       `Download <https://github.com/LucaCappelletti94/epigenomic_dataset/blob/master/preprocessed/fantom/hg38/128/promoters/HEK293.csv.xz?raw=true>`__\n",
      "fantom     hg38                  128  promoters  A549         `Download <https://github.com/LucaCappelletti94/epigenomic_dataset/blob/master/preprocessed/fantom/hg38/128/promoters/A549.csv.xz?raw=true>`__\n",
      "fantom     hg38                  128  promoters  GM12878      `Download <https://github.com/LucaCappelletti94/epigenomic_dataset/blob/master/preprocessed/fantom/hg38/128/promoters/GM12878.csv.xz?raw=true>`__\n",
      "fantom     hg38                  128  enhancers  H1           `Download <https://github.com/LucaCappelletti94/epigenomic_dataset/blob/master/preprocessed/fantom/hg38/128/enhancers/H1.csv.xz?raw=true>`__\n",
      "fantom     hg38                  128  promoters  H1           `Download <https://github.com/LucaCappelletti94/epigenomic_dataset/blob/master/preprocessed/fantom/hg38/128/promoters/H1.csv.xz?raw=true>`__\n",
      "fantom     hg38                  128  enhancers  MCF-7        `Download <https://github.com/LucaCappelletti94/epigenomic_dataset/blob/master/preprocessed/fantom/hg38/128/enhancers/MCF-7.csv.xz?raw=true>`__\n",
      "fantom     hg38                  256  promoters  GM12878      `Download <https://github.com/LucaCappelletti94/epigenomic_dataset/blob/master/preprocessed/fantom/hg38/256/promoters/GM12878.csv.xz?raw=true>`__\n",
      "fantom     hg38                  256  enhancers  H1           `Download <https://github.com/LucaCappelletti94/epigenomic_dataset/blob/master/preprocessed/fantom/hg38/256/enhancers/H1.csv.xz?raw=true>`__\n",
      "fantom     hg38                  256  enhancers  MCF-7        `Download <https://github.com/LucaCappelletti94/epigenomic_dataset/blob/master/preprocessed/fantom/hg38/256/enhancers/MCF-7.csv.xz?raw=true>`__\n",
      "fantom     hg38                  256  promoters  HEK293       `Download <https://github.com/LucaCappelletti94/epigenomic_dataset/blob/master/preprocessed/fantom/hg38/256/promoters/HEK293.csv.xz?raw=true>`__\n",
      "fantom     hg38                  256  promoters  HepG2        `Download <https://github.com/LucaCappelletti94/epigenomic_dataset/blob/master/preprocessed/fantom/hg38/256/promoters/HepG2.csv.xz?raw=true>`__\n",
      "fantom     hg38                  256  promoters  K562         `Download <https://github.com/LucaCappelletti94/epigenomic_dataset/blob/master/preprocessed/fantom/hg38/256/promoters/K562.csv.xz?raw=true>`__\n",
      "fantom     hg38                  256  promoters  H1           `Download <https://github.com/LucaCappelletti94/epigenomic_dataset/blob/master/preprocessed/fantom/hg38/256/promoters/H1.csv.xz?raw=true>`__\n",
      "fantom     hg38                  256  promoters  MCF-7        `Download <https://github.com/LucaCappelletti94/epigenomic_dataset/blob/master/preprocessed/fantom/hg38/256/promoters/MCF-7.csv.xz?raw=true>`__\n",
      "fantom     hg38                  256  promoters  A549         `Download <https://github.com/LucaCappelletti94/epigenomic_dataset/blob/master/preprocessed/fantom/hg38/256/promoters/A549.csv.xz?raw=true>`__\n",
      "fantom     hg38                  256  enhancers  A549         `Download <https://github.com/LucaCappelletti94/epigenomic_dataset/blob/master/preprocessed/fantom/hg38/256/enhancers/A549.csv.xz?raw=true>`__\n",
      "fantom     hg38                  256  enhancers  HEK293       `Download <https://github.com/LucaCappelletti94/epigenomic_dataset/blob/master/preprocessed/fantom/hg38/256/enhancers/HEK293.csv.xz?raw=true>`__\n",
      "fantom     hg38                  256  enhancers  HepG2        `Download <https://github.com/LucaCappelletti94/epigenomic_dataset/blob/master/preprocessed/fantom/hg38/256/enhancers/HepG2.csv.xz?raw=true>`__\n",
      "fantom     hg38                  256  enhancers  K562         `Download <https://github.com/LucaCappelletti94/epigenomic_dataset/blob/master/preprocessed/fantom/hg38/256/enhancers/K562.csv.xz?raw=true>`__\n",
      "fantom     hg38                  256  enhancers  GM12878      `Download <https://github.com/LucaCappelletti94/epigenomic_dataset/blob/master/preprocessed/fantom/hg38/256/enhancers/GM12878.csv.xz?raw=true>`__\n",
      "fantom     hg38                  512  enhancers  K562         `Download <https://github.com/LucaCappelletti94/epigenomic_dataset/blob/master/preprocessed/fantom/hg38/512/enhancers/K562.csv.xz?raw=true>`__\n",
      "fantom     hg38                  512  promoters  HEK293       `Download <https://github.com/LucaCappelletti94/epigenomic_dataset/blob/master/preprocessed/fantom/hg38/512/promoters/HEK293.csv.xz?raw=true>`__\n",
      "fantom     hg38                  512  promoters  HepG2        `Download <https://github.com/LucaCappelletti94/epigenomic_dataset/blob/master/preprocessed/fantom/hg38/512/promoters/HepG2.csv.xz?raw=true>`__\n",
      "fantom     hg38                  512  promoters  K562         `Download <https://github.com/LucaCappelletti94/epigenomic_dataset/blob/master/preprocessed/fantom/hg38/512/promoters/K562.csv.xz?raw=true>`__\n",
      "fantom     hg38                  512  promoters  H1           `Download <https://github.com/LucaCappelletti94/epigenomic_dataset/blob/master/preprocessed/fantom/hg38/512/promoters/H1.csv.xz?raw=true>`__\n",
      "fantom     hg38                  512  enhancers  GM12878      `Download <https://github.com/LucaCappelletti94/epigenomic_dataset/blob/master/preprocessed/fantom/hg38/512/enhancers/GM12878.csv.xz?raw=true>`__\n",
      "fantom     hg38                  512  enhancers  A549         `Download <https://github.com/LucaCappelletti94/epigenomic_dataset/blob/master/preprocessed/fantom/hg38/512/enhancers/A549.csv.xz?raw=true>`__\n",
      "fantom     hg38                  512  enhancers  HEK293       `Download <https://github.com/LucaCappelletti94/epigenomic_dataset/blob/master/preprocessed/fantom/hg38/512/enhancers/HEK293.csv.xz?raw=true>`__\n",
      "fantom     hg38                  512  enhancers  HepG2        `Download <https://github.com/LucaCappelletti94/epigenomic_dataset/blob/master/preprocessed/fantom/hg38/512/enhancers/HepG2.csv.xz?raw=true>`__\n",
      "fantom     hg38                  512  promoters  A549         `Download <https://github.com/LucaCappelletti94/epigenomic_dataset/blob/master/preprocessed/fantom/hg38/512/promoters/A549.csv.xz?raw=true>`__\n",
      "fantom     hg38                  512  promoters  MCF-7        `Download <https://github.com/LucaCappelletti94/epigenomic_dataset/blob/master/preprocessed/fantom/hg38/512/promoters/MCF-7.csv.xz?raw=true>`__\n",
      "fantom     hg38                  512  promoters  GM12878      `Download <https://github.com/LucaCappelletti94/epigenomic_dataset/blob/master/preprocessed/fantom/hg38/512/promoters/GM12878.csv.xz?raw=true>`__\n",
      "fantom     hg38                  512  enhancers  MCF-7        `Download <https://github.com/LucaCappelletti94/epigenomic_dataset/blob/master/preprocessed/fantom/hg38/512/enhancers/MCF-7.csv.xz?raw=true>`__\n",
      "fantom     hg38                  512  enhancers  H1           `Download <https://github.com/LucaCappelletti94/epigenomic_dataset/blob/master/preprocessed/fantom/hg38/512/enhancers/H1.csv.xz?raw=true>`__\n",
      "fantom     hg38                 1024  enhancers  MCF-7        `Download <https://github.com/LucaCappelletti94/epigenomic_dataset/blob/master/preprocessed/fantom/hg38/1024/enhancers/MCF-7.csv.xz?raw=true>`__\n",
      "fantom     hg38                 1024  enhancers  K562         `Download <https://github.com/LucaCappelletti94/epigenomic_dataset/blob/master/preprocessed/fantom/hg38/1024/enhancers/K562.csv.xz?raw=true>`__\n",
      "fantom     hg38                 1024  enhancers  HepG2        `Download <https://github.com/LucaCappelletti94/epigenomic_dataset/blob/master/preprocessed/fantom/hg38/1024/enhancers/HepG2.csv.xz?raw=true>`__\n",
      "fantom     hg38                 1024  enhancers  HEK293       `Download <https://github.com/LucaCappelletti94/epigenomic_dataset/blob/master/preprocessed/fantom/hg38/1024/enhancers/HEK293.csv.xz?raw=true>`__\n",
      "fantom     hg38                 1024  enhancers  A549         `Download <https://github.com/LucaCappelletti94/epigenomic_dataset/blob/master/preprocessed/fantom/hg38/1024/enhancers/A549.csv.xz?raw=true>`__\n",
      "fantom     hg38                 1024  promoters  MCF-7        `Download <https://github.com/LucaCappelletti94/epigenomic_dataset/blob/master/preprocessed/fantom/hg38/1024/promoters/MCF-7.csv.xz?raw=true>`__\n",
      "fantom     hg38                 1024  promoters  H1           `Download <https://github.com/LucaCappelletti94/epigenomic_dataset/blob/master/preprocessed/fantom/hg38/1024/promoters/H1.csv.xz?raw=true>`__\n",
      "fantom     hg38                 1024  promoters  K562         `Download <https://github.com/LucaCappelletti94/epigenomic_dataset/blob/master/preprocessed/fantom/hg38/1024/promoters/K562.csv.xz?raw=true>`__\n",
      "fantom     hg38                 1024  promoters  HepG2        `Download <https://github.com/LucaCappelletti94/epigenomic_dataset/blob/master/preprocessed/fantom/hg38/1024/promoters/HepG2.csv.xz?raw=true>`__\n",
      "fantom     hg38                 1024  promoters  HEK293       `Download <https://github.com/LucaCappelletti94/epigenomic_dataset/blob/master/preprocessed/fantom/hg38/1024/promoters/HEK293.csv.xz?raw=true>`__\n",
      "fantom     hg38                 1024  promoters  A549         `Download <https://github.com/LucaCappelletti94/epigenomic_dataset/blob/master/preprocessed/fantom/hg38/1024/promoters/A549.csv.xz?raw=true>`__\n",
      "fantom     hg38                 1024  promoters  GM12878      `Download <https://github.com/LucaCappelletti94/epigenomic_dataset/blob/master/preprocessed/fantom/hg38/1024/promoters/GM12878.csv.xz?raw=true>`__\n",
      "fantom     hg38                 1024  enhancers  H1           `Download <https://github.com/LucaCappelletti94/epigenomic_dataset/blob/master/preprocessed/fantom/hg38/1024/enhancers/H1.csv.xz?raw=true>`__\n",
      "fantom     hg38                 1024  enhancers  GM12878      `Download <https://github.com/LucaCappelletti94/epigenomic_dataset/blob/master/preprocessed/fantom/hg38/1024/enhancers/GM12878.csv.xz?raw=true>`__\n",
      "=========  ==========  =============  =========  ===========  ==================================================================================================================================================\n"
     ]
    }
   ],
   "source": [
    "print(tabulate(df, headers=df.columns, showindex=False, tablefmt=\"rst\"))"
   ]
  },
  {
   "cell_type": "code",
   "execution_count": null,
   "metadata": {},
   "outputs": [],
   "source": []
  }
 ],
 "metadata": {
  "kernelspec": {
   "display_name": "Python 3",
   "language": "python",
   "name": "python3"
  },
  "language_info": {
   "codemirror_mode": {
    "name": "ipython",
    "version": 3
   },
   "file_extension": ".py",
   "mimetype": "text/x-python",
   "name": "python",
   "nbconvert_exporter": "python",
   "pygments_lexer": "ipython3",
   "version": "3.7.6"
  }
 },
 "nbformat": 4,
 "nbformat_minor": 4
}

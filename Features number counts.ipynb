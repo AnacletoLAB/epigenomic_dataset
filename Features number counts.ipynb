{
 "cells": [
  {
   "cell_type": "code",
   "execution_count": 1,
   "metadata": {},
   "outputs": [],
   "source": [
    "import pandas as pd\n",
    "from epigenomic_dataset import load_all_tasks\n",
    "from epigenomic_dataset.utils import get_cell_lines"
   ]
  },
  {
   "cell_type": "code",
   "execution_count": 2,
   "metadata": {},
   "outputs": [
    {
     "data": {
      "application/vnd.jupyter.widget-view+json": {
       "model_id": "",
       "version_major": 2,
       "version_minor": 0
      },
      "text/plain": [
       "HBox(children=(IntProgress(value=0, description='Executing CRR prediction tasks', max=5, style=ProgressStyle(d…"
      ]
     },
     "metadata": {},
     "output_type": "display_data"
    },
    {
     "data": {
      "application/vnd.jupyter.widget-view+json": {
       "model_id": "",
       "version_major": 2,
       "version_minor": 0
      },
      "text/plain": [
       "HBox(children=(IntProgress(value=0, description='Downloading to datasets/fantom/...oters/A549.csv.xz', layout=…"
      ]
     },
     "metadata": {},
     "output_type": "display_data"
    },
    {
     "data": {
      "application/vnd.jupyter.widget-view+json": {
       "model_id": "",
       "version_major": 2,
       "version_minor": 0
      },
      "text/plain": [
       "HBox(children=(IntProgress(value=0, description='Downloading to datasets/fantom/.../promoters.bed.xz', layout=…"
      ]
     },
     "metadata": {},
     "output_type": "display_data"
    },
    {
     "name": "stdout",
     "output_type": "stream",
     "text": [
      "\r"
     ]
    },
    {
     "data": {
      "application/vnd.jupyter.widget-view+json": {
       "model_id": "",
       "version_major": 2,
       "version_minor": 0
      },
      "text/plain": [
       "HBox(children=(IntProgress(value=0, description='Executing CRR prediction tasks', max=5, style=ProgressStyle(d…"
      ]
     },
     "metadata": {},
     "output_type": "display_data"
    },
    {
     "data": {
      "application/vnd.jupyter.widget-view+json": {
       "model_id": "",
       "version_major": 2,
       "version_minor": 0
      },
      "text/plain": [
       "HBox(children=(IntProgress(value=0, description='Downloading to datasets/fantom/...rs/GM12878.csv.xz', layout=…"
      ]
     },
     "metadata": {},
     "output_type": "display_data"
    },
    {
     "data": {
      "application/vnd.jupyter.widget-view+json": {
       "model_id": "",
       "version_major": 2,
       "version_minor": 0
      },
      "text/plain": [
       "HBox(children=(IntProgress(value=0, description='Downloading to datasets/fantom/...rs/GM12878.csv.xz', layout=…"
      ]
     },
     "metadata": {},
     "output_type": "display_data"
    },
    {
     "name": "stdout",
     "output_type": "stream",
     "text": [
      "\r"
     ]
    },
    {
     "data": {
      "application/vnd.jupyter.widget-view+json": {
       "model_id": "",
       "version_major": 2,
       "version_minor": 0
      },
      "text/plain": [
       "HBox(children=(IntProgress(value=0, description='Executing CRR prediction tasks', max=5, style=ProgressStyle(d…"
      ]
     },
     "metadata": {},
     "output_type": "display_data"
    },
    {
     "data": {
      "application/vnd.jupyter.widget-view+json": {
       "model_id": "",
       "version_major": 2,
       "version_minor": 0
      },
      "text/plain": [
       "HBox(children=(IntProgress(value=0, description='Downloading to datasets/fantom/...hancers/H1.csv.xz', layout=…"
      ]
     },
     "metadata": {},
     "output_type": "display_data"
    },
    {
     "data": {
      "application/vnd.jupyter.widget-view+json": {
       "model_id": "",
       "version_major": 2,
       "version_minor": 0
      },
      "text/plain": [
       "HBox(children=(IntProgress(value=0, description='Downloading to datasets/fantom/...omoters/H1.csv.xz', layout=…"
      ]
     },
     "metadata": {},
     "output_type": "display_data"
    },
    {
     "name": "stdout",
     "output_type": "stream",
     "text": [
      "\r"
     ]
    },
    {
     "data": {
      "application/vnd.jupyter.widget-view+json": {
       "model_id": "",
       "version_major": 2,
       "version_minor": 0
      },
      "text/plain": [
       "HBox(children=(IntProgress(value=0, description='Executing CRR prediction tasks', max=5, style=ProgressStyle(d…"
      ]
     },
     "metadata": {},
     "output_type": "display_data"
    },
    {
     "data": {
      "application/vnd.jupyter.widget-view+json": {
       "model_id": "",
       "version_major": 2,
       "version_minor": 0
      },
      "text/plain": [
       "HBox(children=(IntProgress(value=0, description='Downloading to datasets/fantom/...ers/HEK293.csv.xz', layout=…"
      ]
     },
     "metadata": {},
     "output_type": "display_data"
    },
    {
     "data": {
      "application/vnd.jupyter.widget-view+json": {
       "model_id": "",
       "version_major": 2,
       "version_minor": 0
      },
      "text/plain": [
       "HBox(children=(IntProgress(value=0, description='Downloading to datasets/fantom/...ers/HEK293.csv.xz', layout=…"
      ]
     },
     "metadata": {},
     "output_type": "display_data"
    },
    {
     "name": "stdout",
     "output_type": "stream",
     "text": [
      "\r"
     ]
    },
    {
     "data": {
      "application/vnd.jupyter.widget-view+json": {
       "model_id": "",
       "version_major": 2,
       "version_minor": 0
      },
      "text/plain": [
       "HBox(children=(IntProgress(value=0, description='Executing CRR prediction tasks', max=5, style=ProgressStyle(d…"
      ]
     },
     "metadata": {},
     "output_type": "display_data"
    },
    {
     "data": {
      "application/vnd.jupyter.widget-view+json": {
       "model_id": "",
       "version_major": 2,
       "version_minor": 0
      },
      "text/plain": [
       "HBox(children=(IntProgress(value=0, description='Downloading to datasets/fantom/...cers/HepG2.csv.xz', layout=…"
      ]
     },
     "metadata": {},
     "output_type": "display_data"
    },
    {
     "data": {
      "application/vnd.jupyter.widget-view+json": {
       "model_id": "",
       "version_major": 2,
       "version_minor": 0
      },
      "text/plain": [
       "HBox(children=(IntProgress(value=0, description='Downloading to datasets/fantom/...ters/HepG2.csv.xz', layout=…"
      ]
     },
     "metadata": {},
     "output_type": "display_data"
    },
    {
     "name": "stdout",
     "output_type": "stream",
     "text": [
      "\r"
     ]
    },
    {
     "data": {
      "application/vnd.jupyter.widget-view+json": {
       "model_id": "",
       "version_major": 2,
       "version_minor": 0
      },
      "text/plain": [
       "HBox(children=(IntProgress(value=0, description='Executing CRR prediction tasks', max=5, style=ProgressStyle(d…"
      ]
     },
     "metadata": {},
     "output_type": "display_data"
    },
    {
     "data": {
      "application/vnd.jupyter.widget-view+json": {
       "model_id": "",
       "version_major": 2,
       "version_minor": 0
      },
      "text/plain": [
       "HBox(children=(IntProgress(value=0, description='Downloading to datasets/fantom/...ncers/K562.csv.xz', layout=…"
      ]
     },
     "metadata": {},
     "output_type": "display_data"
    },
    {
     "data": {
      "application/vnd.jupyter.widget-view+json": {
       "model_id": "",
       "version_major": 2,
       "version_minor": 0
      },
      "text/plain": [
       "HBox(children=(IntProgress(value=0, description='Downloading to datasets/fantom/...oters/K562.csv.xz', layout=…"
      ]
     },
     "metadata": {},
     "output_type": "display_data"
    },
    {
     "name": "stdout",
     "output_type": "stream",
     "text": [
      "\r"
     ]
    },
    {
     "data": {
      "application/vnd.jupyter.widget-view+json": {
       "model_id": "",
       "version_major": 2,
       "version_minor": 0
      },
      "text/plain": [
       "HBox(children=(IntProgress(value=0, description='Executing CRR prediction tasks', max=5, style=ProgressStyle(d…"
      ]
     },
     "metadata": {},
     "output_type": "display_data"
    },
    {
     "data": {
      "application/vnd.jupyter.widget-view+json": {
       "model_id": "",
       "version_major": 2,
       "version_minor": 0
      },
      "text/plain": [
       "HBox(children=(IntProgress(value=0, description='Downloading to datasets/fantom/...cers/MCF-7.csv.xz', layout=…"
      ]
     },
     "metadata": {},
     "output_type": "display_data"
    },
    {
     "data": {
      "application/vnd.jupyter.widget-view+json": {
       "model_id": "",
       "version_major": 2,
       "version_minor": 0
      },
      "text/plain": [
       "HBox(children=(IntProgress(value=0, description='Downloading to datasets/fantom/...ters/MCF-7.csv.xz', layout=…"
      ]
     },
     "metadata": {},
     "output_type": "display_data"
    },
    {
     "name": "stdout",
     "output_type": "stream",
     "text": [
      "\r"
     ]
    },
    {
     "data": {
      "text/html": [
       "<div>\n",
       "<style scoped>\n",
       "    .dataframe tbody tr th:only-of-type {\n",
       "        vertical-align: middle;\n",
       "    }\n",
       "\n",
       "    .dataframe tbody tr th {\n",
       "        vertical-align: top;\n",
       "    }\n",
       "\n",
       "    .dataframe thead th {\n",
       "        text-align: right;\n",
       "    }\n",
       "</style>\n",
       "<table border=\"1\" class=\"dataframe\">\n",
       "  <thead>\n",
       "    <tr style=\"text-align: right;\">\n",
       "      <th></th>\n",
       "      <th>assembly</th>\n",
       "      <th>cell_line</th>\n",
       "      <th>task</th>\n",
       "      <th>samples_number</th>\n",
       "      <th>features_number</th>\n",
       "      <th>total_positives</th>\n",
       "      <th>total_negatives</th>\n",
       "    </tr>\n",
       "  </thead>\n",
       "  <tbody>\n",
       "    <tr>\n",
       "      <th>0</th>\n",
       "      <td>hg38</td>\n",
       "      <td>A549</td>\n",
       "      <td>active_enhancers_vs_inactive_enhancers</td>\n",
       "      <td>63285</td>\n",
       "      <td>48</td>\n",
       "      <td>3603</td>\n",
       "      <td>59682</td>\n",
       "    </tr>\n",
       "    <tr>\n",
       "      <th>1</th>\n",
       "      <td>hg38</td>\n",
       "      <td>A549</td>\n",
       "      <td>active_promoters_vs_inactive_promoters</td>\n",
       "      <td>99881</td>\n",
       "      <td>48</td>\n",
       "      <td>10302</td>\n",
       "      <td>89579</td>\n",
       "    </tr>\n",
       "    <tr>\n",
       "      <th>2</th>\n",
       "      <td>hg38</td>\n",
       "      <td>A549</td>\n",
       "      <td>active_enhancers_vs_active_promoters</td>\n",
       "      <td>13905</td>\n",
       "      <td>48</td>\n",
       "      <td>10302</td>\n",
       "      <td>3603</td>\n",
       "    </tr>\n",
       "    <tr>\n",
       "      <th>3</th>\n",
       "      <td>hg38</td>\n",
       "      <td>A549</td>\n",
       "      <td>inactive_enhancers_vs_inactive_promoters</td>\n",
       "      <td>149261</td>\n",
       "      <td>48</td>\n",
       "      <td>89579</td>\n",
       "      <td>59682</td>\n",
       "    </tr>\n",
       "    <tr>\n",
       "      <th>4</th>\n",
       "      <td>hg38</td>\n",
       "      <td>A549</td>\n",
       "      <td>active_vs_inactive</td>\n",
       "      <td>163166</td>\n",
       "      <td>48</td>\n",
       "      <td>13905</td>\n",
       "      <td>149261</td>\n",
       "    </tr>\n",
       "    <tr>\n",
       "      <th>5</th>\n",
       "      <td>hg38</td>\n",
       "      <td>GM12878</td>\n",
       "      <td>active_enhancers_vs_inactive_enhancers</td>\n",
       "      <td>63285</td>\n",
       "      <td>152</td>\n",
       "      <td>11589</td>\n",
       "      <td>51696</td>\n",
       "    </tr>\n",
       "    <tr>\n",
       "      <th>6</th>\n",
       "      <td>hg38</td>\n",
       "      <td>GM12878</td>\n",
       "      <td>active_promoters_vs_inactive_promoters</td>\n",
       "      <td>99881</td>\n",
       "      <td>152</td>\n",
       "      <td>14036</td>\n",
       "      <td>85845</td>\n",
       "    </tr>\n",
       "    <tr>\n",
       "      <th>7</th>\n",
       "      <td>hg38</td>\n",
       "      <td>GM12878</td>\n",
       "      <td>active_enhancers_vs_active_promoters</td>\n",
       "      <td>25625</td>\n",
       "      <td>152</td>\n",
       "      <td>14036</td>\n",
       "      <td>11589</td>\n",
       "    </tr>\n",
       "    <tr>\n",
       "      <th>8</th>\n",
       "      <td>hg38</td>\n",
       "      <td>GM12878</td>\n",
       "      <td>inactive_enhancers_vs_inactive_promoters</td>\n",
       "      <td>137541</td>\n",
       "      <td>152</td>\n",
       "      <td>85845</td>\n",
       "      <td>51696</td>\n",
       "    </tr>\n",
       "    <tr>\n",
       "      <th>9</th>\n",
       "      <td>hg38</td>\n",
       "      <td>GM12878</td>\n",
       "      <td>active_vs_inactive</td>\n",
       "      <td>163166</td>\n",
       "      <td>152</td>\n",
       "      <td>25625</td>\n",
       "      <td>137541</td>\n",
       "    </tr>\n",
       "    <tr>\n",
       "      <th>10</th>\n",
       "      <td>hg38</td>\n",
       "      <td>H1</td>\n",
       "      <td>active_enhancers_vs_inactive_enhancers</td>\n",
       "      <td>63285</td>\n",
       "      <td>58</td>\n",
       "      <td>3038</td>\n",
       "      <td>60247</td>\n",
       "    </tr>\n",
       "    <tr>\n",
       "      <th>11</th>\n",
       "      <td>hg38</td>\n",
       "      <td>H1</td>\n",
       "      <td>active_promoters_vs_inactive_promoters</td>\n",
       "      <td>99881</td>\n",
       "      <td>58</td>\n",
       "      <td>13329</td>\n",
       "      <td>86552</td>\n",
       "    </tr>\n",
       "    <tr>\n",
       "      <th>12</th>\n",
       "      <td>hg38</td>\n",
       "      <td>H1</td>\n",
       "      <td>active_enhancers_vs_active_promoters</td>\n",
       "      <td>16367</td>\n",
       "      <td>58</td>\n",
       "      <td>13329</td>\n",
       "      <td>3038</td>\n",
       "    </tr>\n",
       "    <tr>\n",
       "      <th>13</th>\n",
       "      <td>hg38</td>\n",
       "      <td>H1</td>\n",
       "      <td>inactive_enhancers_vs_inactive_promoters</td>\n",
       "      <td>146799</td>\n",
       "      <td>58</td>\n",
       "      <td>86552</td>\n",
       "      <td>60247</td>\n",
       "    </tr>\n",
       "    <tr>\n",
       "      <th>14</th>\n",
       "      <td>hg38</td>\n",
       "      <td>H1</td>\n",
       "      <td>active_vs_inactive</td>\n",
       "      <td>163166</td>\n",
       "      <td>58</td>\n",
       "      <td>16367</td>\n",
       "      <td>146799</td>\n",
       "    </tr>\n",
       "    <tr>\n",
       "      <th>15</th>\n",
       "      <td>hg38</td>\n",
       "      <td>HEK293</td>\n",
       "      <td>active_enhancers_vs_inactive_enhancers</td>\n",
       "      <td>63285</td>\n",
       "      <td>196</td>\n",
       "      <td>6644</td>\n",
       "      <td>56641</td>\n",
       "    </tr>\n",
       "    <tr>\n",
       "      <th>16</th>\n",
       "      <td>hg38</td>\n",
       "      <td>HEK293</td>\n",
       "      <td>active_promoters_vs_inactive_promoters</td>\n",
       "      <td>99881</td>\n",
       "      <td>196</td>\n",
       "      <td>13138</td>\n",
       "      <td>86743</td>\n",
       "    </tr>\n",
       "    <tr>\n",
       "      <th>17</th>\n",
       "      <td>hg38</td>\n",
       "      <td>HEK293</td>\n",
       "      <td>active_enhancers_vs_active_promoters</td>\n",
       "      <td>19782</td>\n",
       "      <td>196</td>\n",
       "      <td>13138</td>\n",
       "      <td>6644</td>\n",
       "    </tr>\n",
       "    <tr>\n",
       "      <th>18</th>\n",
       "      <td>hg38</td>\n",
       "      <td>HEK293</td>\n",
       "      <td>inactive_enhancers_vs_inactive_promoters</td>\n",
       "      <td>143384</td>\n",
       "      <td>196</td>\n",
       "      <td>86743</td>\n",
       "      <td>56641</td>\n",
       "    </tr>\n",
       "    <tr>\n",
       "      <th>19</th>\n",
       "      <td>hg38</td>\n",
       "      <td>HEK293</td>\n",
       "      <td>active_vs_inactive</td>\n",
       "      <td>163166</td>\n",
       "      <td>196</td>\n",
       "      <td>19782</td>\n",
       "      <td>143384</td>\n",
       "    </tr>\n",
       "    <tr>\n",
       "      <th>20</th>\n",
       "      <td>hg38</td>\n",
       "      <td>HepG2</td>\n",
       "      <td>active_enhancers_vs_inactive_enhancers</td>\n",
       "      <td>63285</td>\n",
       "      <td>562</td>\n",
       "      <td>7177</td>\n",
       "      <td>56108</td>\n",
       "    </tr>\n",
       "    <tr>\n",
       "      <th>21</th>\n",
       "      <td>hg38</td>\n",
       "      <td>HepG2</td>\n",
       "      <td>active_promoters_vs_inactive_promoters</td>\n",
       "      <td>99881</td>\n",
       "      <td>562</td>\n",
       "      <td>14092</td>\n",
       "      <td>85789</td>\n",
       "    </tr>\n",
       "    <tr>\n",
       "      <th>22</th>\n",
       "      <td>hg38</td>\n",
       "      <td>HepG2</td>\n",
       "      <td>active_enhancers_vs_active_promoters</td>\n",
       "      <td>21269</td>\n",
       "      <td>562</td>\n",
       "      <td>14092</td>\n",
       "      <td>7177</td>\n",
       "    </tr>\n",
       "    <tr>\n",
       "      <th>23</th>\n",
       "      <td>hg38</td>\n",
       "      <td>HepG2</td>\n",
       "      <td>inactive_enhancers_vs_inactive_promoters</td>\n",
       "      <td>141897</td>\n",
       "      <td>562</td>\n",
       "      <td>85789</td>\n",
       "      <td>56108</td>\n",
       "    </tr>\n",
       "    <tr>\n",
       "      <th>24</th>\n",
       "      <td>hg38</td>\n",
       "      <td>HepG2</td>\n",
       "      <td>active_vs_inactive</td>\n",
       "      <td>163166</td>\n",
       "      <td>562</td>\n",
       "      <td>21269</td>\n",
       "      <td>141897</td>\n",
       "    </tr>\n",
       "    <tr>\n",
       "      <th>25</th>\n",
       "      <td>hg38</td>\n",
       "      <td>K562</td>\n",
       "      <td>active_enhancers_vs_inactive_enhancers</td>\n",
       "      <td>63285</td>\n",
       "      <td>429</td>\n",
       "      <td>5524</td>\n",
       "      <td>57761</td>\n",
       "    </tr>\n",
       "    <tr>\n",
       "      <th>26</th>\n",
       "      <td>hg38</td>\n",
       "      <td>K562</td>\n",
       "      <td>active_promoters_vs_inactive_promoters</td>\n",
       "      <td>99881</td>\n",
       "      <td>429</td>\n",
       "      <td>12524</td>\n",
       "      <td>87357</td>\n",
       "    </tr>\n",
       "    <tr>\n",
       "      <th>27</th>\n",
       "      <td>hg38</td>\n",
       "      <td>K562</td>\n",
       "      <td>active_enhancers_vs_active_promoters</td>\n",
       "      <td>18048</td>\n",
       "      <td>429</td>\n",
       "      <td>12524</td>\n",
       "      <td>5524</td>\n",
       "    </tr>\n",
       "    <tr>\n",
       "      <th>28</th>\n",
       "      <td>hg38</td>\n",
       "      <td>K562</td>\n",
       "      <td>inactive_enhancers_vs_inactive_promoters</td>\n",
       "      <td>145118</td>\n",
       "      <td>429</td>\n",
       "      <td>87357</td>\n",
       "      <td>57761</td>\n",
       "    </tr>\n",
       "    <tr>\n",
       "      <th>29</th>\n",
       "      <td>hg38</td>\n",
       "      <td>K562</td>\n",
       "      <td>active_vs_inactive</td>\n",
       "      <td>163166</td>\n",
       "      <td>429</td>\n",
       "      <td>18048</td>\n",
       "      <td>145118</td>\n",
       "    </tr>\n",
       "    <tr>\n",
       "      <th>30</th>\n",
       "      <td>hg38</td>\n",
       "      <td>MCF-7</td>\n",
       "      <td>active_enhancers_vs_inactive_enhancers</td>\n",
       "      <td>63285</td>\n",
       "      <td>117</td>\n",
       "      <td>4911</td>\n",
       "      <td>58374</td>\n",
       "    </tr>\n",
       "    <tr>\n",
       "      <th>31</th>\n",
       "      <td>hg38</td>\n",
       "      <td>MCF-7</td>\n",
       "      <td>active_promoters_vs_inactive_promoters</td>\n",
       "      <td>99881</td>\n",
       "      <td>117</td>\n",
       "      <td>12709</td>\n",
       "      <td>87172</td>\n",
       "    </tr>\n",
       "    <tr>\n",
       "      <th>32</th>\n",
       "      <td>hg38</td>\n",
       "      <td>MCF-7</td>\n",
       "      <td>active_enhancers_vs_active_promoters</td>\n",
       "      <td>17620</td>\n",
       "      <td>117</td>\n",
       "      <td>12709</td>\n",
       "      <td>4911</td>\n",
       "    </tr>\n",
       "    <tr>\n",
       "      <th>33</th>\n",
       "      <td>hg38</td>\n",
       "      <td>MCF-7</td>\n",
       "      <td>inactive_enhancers_vs_inactive_promoters</td>\n",
       "      <td>145546</td>\n",
       "      <td>117</td>\n",
       "      <td>87172</td>\n",
       "      <td>58374</td>\n",
       "    </tr>\n",
       "    <tr>\n",
       "      <th>34</th>\n",
       "      <td>hg38</td>\n",
       "      <td>MCF-7</td>\n",
       "      <td>active_vs_inactive</td>\n",
       "      <td>163166</td>\n",
       "      <td>117</td>\n",
       "      <td>17620</td>\n",
       "      <td>145546</td>\n",
       "    </tr>\n",
       "  </tbody>\n",
       "</table>\n",
       "</div>"
      ],
      "text/plain": [
       "   assembly cell_line                                      task  \\\n",
       "0      hg38      A549    active_enhancers_vs_inactive_enhancers   \n",
       "1      hg38      A549    active_promoters_vs_inactive_promoters   \n",
       "2      hg38      A549      active_enhancers_vs_active_promoters   \n",
       "3      hg38      A549  inactive_enhancers_vs_inactive_promoters   \n",
       "4      hg38      A549                        active_vs_inactive   \n",
       "5      hg38   GM12878    active_enhancers_vs_inactive_enhancers   \n",
       "6      hg38   GM12878    active_promoters_vs_inactive_promoters   \n",
       "7      hg38   GM12878      active_enhancers_vs_active_promoters   \n",
       "8      hg38   GM12878  inactive_enhancers_vs_inactive_promoters   \n",
       "9      hg38   GM12878                        active_vs_inactive   \n",
       "10     hg38        H1    active_enhancers_vs_inactive_enhancers   \n",
       "11     hg38        H1    active_promoters_vs_inactive_promoters   \n",
       "12     hg38        H1      active_enhancers_vs_active_promoters   \n",
       "13     hg38        H1  inactive_enhancers_vs_inactive_promoters   \n",
       "14     hg38        H1                        active_vs_inactive   \n",
       "15     hg38    HEK293    active_enhancers_vs_inactive_enhancers   \n",
       "16     hg38    HEK293    active_promoters_vs_inactive_promoters   \n",
       "17     hg38    HEK293      active_enhancers_vs_active_promoters   \n",
       "18     hg38    HEK293  inactive_enhancers_vs_inactive_promoters   \n",
       "19     hg38    HEK293                        active_vs_inactive   \n",
       "20     hg38     HepG2    active_enhancers_vs_inactive_enhancers   \n",
       "21     hg38     HepG2    active_promoters_vs_inactive_promoters   \n",
       "22     hg38     HepG2      active_enhancers_vs_active_promoters   \n",
       "23     hg38     HepG2  inactive_enhancers_vs_inactive_promoters   \n",
       "24     hg38     HepG2                        active_vs_inactive   \n",
       "25     hg38      K562    active_enhancers_vs_inactive_enhancers   \n",
       "26     hg38      K562    active_promoters_vs_inactive_promoters   \n",
       "27     hg38      K562      active_enhancers_vs_active_promoters   \n",
       "28     hg38      K562  inactive_enhancers_vs_inactive_promoters   \n",
       "29     hg38      K562                        active_vs_inactive   \n",
       "30     hg38     MCF-7    active_enhancers_vs_inactive_enhancers   \n",
       "31     hg38     MCF-7    active_promoters_vs_inactive_promoters   \n",
       "32     hg38     MCF-7      active_enhancers_vs_active_promoters   \n",
       "33     hg38     MCF-7  inactive_enhancers_vs_inactive_promoters   \n",
       "34     hg38     MCF-7                        active_vs_inactive   \n",
       "\n",
       "    samples_number  features_number  total_positives  total_negatives  \n",
       "0            63285               48             3603            59682  \n",
       "1            99881               48            10302            89579  \n",
       "2            13905               48            10302             3603  \n",
       "3           149261               48            89579            59682  \n",
       "4           163166               48            13905           149261  \n",
       "5            63285              152            11589            51696  \n",
       "6            99881              152            14036            85845  \n",
       "7            25625              152            14036            11589  \n",
       "8           137541              152            85845            51696  \n",
       "9           163166              152            25625           137541  \n",
       "10           63285               58             3038            60247  \n",
       "11           99881               58            13329            86552  \n",
       "12           16367               58            13329             3038  \n",
       "13          146799               58            86552            60247  \n",
       "14          163166               58            16367           146799  \n",
       "15           63285              196             6644            56641  \n",
       "16           99881              196            13138            86743  \n",
       "17           19782              196            13138             6644  \n",
       "18          143384              196            86743            56641  \n",
       "19          163166              196            19782           143384  \n",
       "20           63285              562             7177            56108  \n",
       "21           99881              562            14092            85789  \n",
       "22           21269              562            14092             7177  \n",
       "23          141897              562            85789            56108  \n",
       "24          163166              562            21269           141897  \n",
       "25           63285              429             5524            57761  \n",
       "26           99881              429            12524            87357  \n",
       "27           18048              429            12524             5524  \n",
       "28          145118              429            87357            57761  \n",
       "29          163166              429            18048           145118  \n",
       "30           63285              117             4911            58374  \n",
       "31           99881              117            12709            87172  \n",
       "32           17620              117            12709             4911  \n",
       "33          145546              117            87172            58374  \n",
       "34          163166              117            17620           145546  "
      ]
     },
     "execution_count": 2,
     "metadata": {},
     "output_type": "execute_result"
    }
   ],
   "source": [
    "features = []\n",
    "for cell_line in get_cell_lines():\n",
    "    for (X, y), task in load_all_tasks(\n",
    "        cell_line=cell_line,\n",
    "    ):\n",
    "        features.append({\n",
    "            \"assembly\": \"hg38\",\n",
    "            \"cell_line\": cell_line,\n",
    "            \"task\": task,\n",
    "            \"samples_number\": X.shape[0],\n",
    "            \"features_number\": X.shape[1],\n",
    "            \"total_positives\": (y.values==1).sum(),\n",
    "            \"total_negatives\": (y.values==0).sum()\n",
    "        })\n",
    "\n",
    "features = pd.DataFrame(features)\n",
    "features"
   ]
  },
  {
   "cell_type": "code",
   "execution_count": 4,
   "metadata": {},
   "outputs": [],
   "source": [
    "features.to_csv(\"feature_number_counts.csv\", index=False)"
   ]
  }
 ],
 "metadata": {
  "kernelspec": {
   "display_name": "Python 3",
   "language": "python",
   "name": "python3"
  },
  "language_info": {
   "codemirror_mode": {
    "name": "ipython",
    "version": 3
   },
   "file_extension": ".py",
   "mimetype": "text/x-python",
   "name": "python",
   "nbconvert_exporter": "python",
   "pygments_lexer": "ipython3",
   "version": "3.7.4"
  }
 },
 "nbformat": 4,
 "nbformat_minor": 2
}

{
 "cells": [
  {
   "cell_type": "code",
   "execution_count": 40,
   "metadata": {},
   "outputs": [],
   "source": [
    "import pandas as pd\n",
    "import numpy as np\n",
    "from encodeproject import accessions, sample_to_dataframe, biosample\n",
    "import json\n",
    "from tqdm.auto import tqdm\n",
    "from typing import List"
   ]
  },
  {
   "cell_type": "code",
   "execution_count": 3,
   "metadata": {},
   "outputs": [],
   "source": [
    "with open(\"epigenomic_dataset/experiments_query.json\", \"r\") as f:\n",
    "    experiments = json.load(f)"
   ]
  },
  {
   "cell_type": "code",
   "execution_count": 36,
   "metadata": {},
   "outputs": [],
   "source": [
    "def filter_biosample(\n",
    "    sample:pd.DataFrame,\n",
    "    assemblies:List[str],\n",
    "    min_biological_replicates:int,\n",
    "    file_formats:List[str],\n",
    "    output_types:List[str]\n",
    "):\n",
    "    return sample[\n",
    "        sample.assembly.isin(assemblies) &\n",
    "        (df.biological_replicates.str.len() >= min_biological_replicates) &\n",
    "        sample.file_format.isin(file_formats) &\n",
    "        sample.output_type.isin(output_types)\n",
    "    ].reset_index(drop=True)"
   ]
  },
  {
   "cell_type": "code",
   "execution_count": 41,
   "metadata": {},
   "outputs": [
    {
     "data": {
      "application/vnd.jupyter.widget-view+json": {
       "model_id": "68a0f87531724018980635c2aabc7995",
       "version_major": 2,
       "version_minor": 0
      },
      "text/plain": [
       "HBox(children=(IntProgress(value=0, max=1494), HTML(value='')))"
      ]
     },
     "metadata": {},
     "output_type": "display_data"
    },
    {
     "name": "stderr",
     "output_type": "stream",
     "text": [
      "/home/luca/anaconda3/lib/python3.7/site-packages/ipykernel_launcher.py:12: UserWarning: Boolean Series key will be reindexed to match DataFrame index.\n",
      "  if sys.path[0] == '':\n"
     ]
    },
    {
     "name": "stdout",
     "output_type": "stream",
     "text": [
      "\n"
     ]
    }
   ],
   "source": [
    "samples = pd.concat([\n",
    "    filter_biosample(\n",
    "        sample=sample_to_dataframe(biosample(accession)),\n",
    "        assemblies=[\"GRCh38\", \"hg19\"],\n",
    "        min_biological_replicates=2,\n",
    "        file_formats=[\"bigWig\"],\n",
    "        output_types=[\"fold change over control\"]\n",
    "    ) for accession in tqdm(accessions(experiments))\n",
    "])"
   ]
  },
  {
   "cell_type": "code",
   "execution_count": 42,
   "metadata": {},
   "outputs": [],
   "source": [
    "samples.to_csv(\"samples.csv\")"
   ]
  }
 ],
 "metadata": {
  "kernelspec": {
   "display_name": "Python 3",
   "language": "python",
   "name": "python3"
  },
  "language_info": {
   "codemirror_mode": {
    "name": "ipython",
    "version": 3
   },
   "file_extension": ".py",
   "mimetype": "text/x-python",
   "name": "python",
   "nbconvert_exporter": "python",
   "pygments_lexer": "ipython3",
   "version": "3.7.3"
  }
 },
 "nbformat": 4,
 "nbformat_minor": 2
}

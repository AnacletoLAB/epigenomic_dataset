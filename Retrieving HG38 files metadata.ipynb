{
 "cells": [
  {
   "cell_type": "markdown",
   "metadata": {},
   "source": [
    "# Retrieving HG38 epigenomic files\n",
    "The following notebook shows how the epigenomic files metadata are retrieved."
   ]
  },
  {
   "cell_type": "code",
   "execution_count": 1,
   "metadata": {},
   "outputs": [],
   "source": [
    "from glob import glob\n",
    "import pandas as pd\n",
    "import compress_json\n",
    "from encodeproject import biosamples, accessions, biosample, download_urls"
   ]
  },
  {
   "cell_type": "markdown",
   "metadata": {},
   "source": [
    "We specify that we are only interested in the [GRCh38](https://www.ncbi.nlm.nih.gov/assembly/GCF_000001405.26/) assembly, are currently in status [released](https://www.encodeproject.org/help/getting-started/status-terms/#FileStatuses), have replication type [isogenic](https://www.encodeproject.org/data-standards/terms/) (there is a biological replication) and the file format is [bigWig](https://genome.ucsc.edu/goldenPath/help/bigWig.html#:~:text=The%20bigWig%20format%20is%20useful,in%20an%20indexed%20binary%20format.&text=Wiggle%20data%20must%20be%20continuous%20and%20consist%20of%20equally%20sized%20elements.)."
   ]
  },
  {
   "cell_type": "code",
   "execution_count": 2,
   "metadata": {},
   "outputs": [],
   "source": [
    "parameters = dict(\n",
    "    assembly=\"GRCh38\",\n",
    "    replication_type=\"isogenic\",\n",
    "    file_format=\"bigWig\",\n",
    "    status=\"released\",\n",
    "    use_multiprocessing=False\n",
    ")"
   ]
  },
  {
   "cell_type": "markdown",
   "metadata": {},
   "source": [
    "We will append all the dataset while we obtain them to the following list."
   ]
  },
  {
   "cell_type": "code",
   "execution_count": 3,
   "metadata": {},
   "outputs": [],
   "source": [
    "all_datasets = []"
   ]
  },
  {
   "cell_type": "markdown",
   "metadata": {},
   "source": [
    "### Retrieving CHIP-seq"
   ]
  },
  {
   "cell_type": "code",
   "execution_count": null,
   "metadata": {
    "scrolled": true
   },
   "outputs": [
    {
     "data": {
      "application/vnd.jupyter.widget-view+json": {
       "model_id": "2b8bab153336413d94a793abb589f2d4",
       "version_major": 2,
       "version_minor": 0
      },
      "text/plain": [
       "Retrieving biosamples:   0%|          | 0/1836 [00:00<?, ?it/s]"
      ]
     },
     "metadata": {},
     "output_type": "display_data"
    }
   ],
   "source": [
    "samples = biosamples(\n",
    "    accessions=accessions(compress_json.load(\"hg38_encode_queries/chipseq.json\")),\n",
    "    min_biological_replicates=2,\n",
    "    output_type=\"fold change over control\",\n",
    "    **parameters\n",
    ")\n",
    "all_datasets.append(samples)\n",
    "samples"
   ]
  },
  {
   "cell_type": "markdown",
   "metadata": {},
   "source": [
    "### Retrieving DNASE-seq"
   ]
  },
  {
   "cell_type": "code",
   "execution_count": null,
   "metadata": {
    "scrolled": true
   },
   "outputs": [],
   "source": [
    "samples = biosamples(\n",
    "    accessions=accessions(compress_json.load(\"hg38_encode_queries/dnaseseq.json\")),\n",
    "    organism=None,\n",
    "    **parameters\n",
    ")\n",
    "samples[\"organism\"] = \"human\"\n",
    "\n",
    "all_datasets.append(samples)\n",
    "samples"
   ]
  },
  {
   "cell_type": "markdown",
   "metadata": {},
   "source": [
    "### Retrieving WGBS"
   ]
  },
  {
   "cell_type": "code",
   "execution_count": null,
   "metadata": {
    "scrolled": true
   },
   "outputs": [],
   "source": [
    "samples = biosamples(\n",
    "    accessions=accessions(compress_json.load(\"hg38_encode_queries/wgbs.json\")),\n",
    "    organism=None,\n",
    "    **parameters,\n",
    ")\n",
    "# I have manually checked that the version of the files is 3, but it is not available in the metadata.\n",
    "samples[\"encode_version\"] = 3\n",
    "samples[\"organism\"] = \"human\"\n",
    "all_datasets.append(samples)\n",
    "samples"
   ]
  },
  {
   "cell_type": "markdown",
   "metadata": {},
   "source": [
    "### Retrieving ATAC"
   ]
  },
  {
   "cell_type": "code",
   "execution_count": null,
   "metadata": {
    "scrolled": true
   },
   "outputs": [],
   "source": [
    "samples = biosamples(\n",
    "    accessions=accessions(compress_json.load(\"hg38_encode_queries/atacseq.json\")),\n",
    "    organism=None,\n",
    "    min_biological_replicates=2,\n",
    "    output_type=\"fold change over control\",\n",
    "    **parameters\n",
    ")\n",
    "samples[\"organism\"] = \"human\"\n",
    "\n",
    "all_datasets.append(samples)\n",
    "samples"
   ]
  },
  {
   "cell_type": "markdown",
   "metadata": {},
   "source": [
    "## Combining all datasets"
   ]
  },
  {
   "cell_type": "code",
   "execution_count": null,
   "metadata": {},
   "outputs": [],
   "source": [
    "combined = pd.concat(all_datasets)\n",
    "combined"
   ]
  },
  {
   "cell_type": "code",
   "execution_count": null,
   "metadata": {},
   "outputs": [],
   "source": [
    "combined"
   ]
  },
  {
   "cell_type": "markdown",
   "metadata": {},
   "source": [
    "### Keeping only latest encode version of each file"
   ]
  },
  {
   "cell_type": "code",
   "execution_count": null,
   "metadata": {},
   "outputs": [],
   "source": [
    "combined[\"string_biological_replicates\"] = combined[\"biological_replicates\"].astype(str)\n",
    "filtered_combined = combined.sort_values(\"encode_version\").groupby([\n",
    "    \"target\",\n",
    "    \"cell_line\",\n",
    "    \"assay_title\",\n",
    "    \"institute_name\",\n",
    "    \"string_biological_replicates\"\n",
    "]).last().reset_index()\n",
    "\n",
    "filtered_combined.to_csv(\"epigenomic_dataset/epigenomes_metadata/hg38.csv\", index=False)"
   ]
  },
  {
   "cell_type": "code",
   "execution_count": null,
   "metadata": {},
   "outputs": [],
   "source": [
    "filtered_combined"
   ]
  }
 ],
 "metadata": {
  "kernelspec": {
   "display_name": "Python 3",
   "language": "python",
   "name": "python3"
  },
  "language_info": {
   "codemirror_mode": {
    "name": "ipython",
    "version": 3
   },
   "file_extension": ".py",
   "mimetype": "text/x-python",
   "name": "python",
   "nbconvert_exporter": "python",
   "pygments_lexer": "ipython3",
   "version": "3.7.6"
  }
 },
 "nbformat": 4,
 "nbformat_minor": 2
}

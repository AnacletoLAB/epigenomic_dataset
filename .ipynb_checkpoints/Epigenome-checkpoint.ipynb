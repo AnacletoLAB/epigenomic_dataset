{
 "cells": [
  {
   "cell_type": "code",
   "execution_count": 12,
   "metadata": {},
   "outputs": [],
   "source": [
    "import pandas as pd\n",
    "import numpy as np\n",
    "from encodeproject import accessions"
   ]
  },
  {
   "cell_type": "code",
   "execution_count": 4,
   "metadata": {},
   "outputs": [
    {
     "data": {
      "text/plain": [
       "array(['A549', 'GM12878', 'H1', 'HEK293', 'HepG2', 'K562', 'MCF-7'],\n",
       "      dtype=object)"
      ]
     },
     "execution_count": 4,
     "metadata": {},
     "output_type": "execute_result"
    }
   ],
   "source": []
  },
  {
   "cell_type": "code",
   "execution_count": 14,
   "metadata": {},
   "outputs": [],
   "source": []
  },
  {
   "cell_type": "code",
   "execution_count": 15,
   "metadata": {},
   "outputs": [],
   "source": [
    "experiments = encode_query(path=url)"
   ]
  },
  {
   "cell_type": "code",
   "execution_count": 16,
   "metadata": {},
   "outputs": [
    {
     "data": {
      "text/plain": [
       "['ENCSR000BRD',\n",
       " 'ENCSR000AVI',\n",
       " 'ENCSR000AUN',\n",
       " 'ENCSR000ATD',\n",
       " 'ENCSR000AQV',\n",
       " 'ENCSR189PYJ',\n",
       " 'ENCSR376WCJ',\n",
       " 'ENCSR264RJX',\n",
       " 'ENCSR494TDU',\n",
       " 'ENCSR758OEC',\n",
       " 'ENCSR791AGT',\n",
       " 'ENCSR626VUC',\n",
       " 'ENCSR130VQL',\n",
       " 'ENCSR835MMN',\n",
       " 'ENCSR564VIX',\n",
       " 'ENCSR751CJG',\n",
       " 'ENCSR391NPE',\n",
       " 'ENCSR791INM',\n",
       " 'ENCSR161NON',\n",
       " 'ENCSR000DUA',\n",
       " 'ENCSR306VSH',\n",
       " 'ENCSR000DQB',\n",
       " 'ENCSR121INC',\n",
       " 'ENCSR082NQB',\n",
       " 'ENCSR597ULV']"
      ]
     },
     "execution_count": 16,
     "metadata": {},
     "output_type": "execute_result"
    }
   ],
   "source": [
    "accessions(experiments)"
   ]
  },
  {
   "cell_type": "code",
   "execution_count": null,
   "metadata": {},
   "outputs": [],
   "source": []
  }
 ],
 "metadata": {
  "kernelspec": {
   "display_name": "Python 3",
   "language": "python",
   "name": "python3"
  },
  "language_info": {
   "codemirror_mode": {
    "name": "ipython",
    "version": 3
   },
   "file_extension": ".py",
   "mimetype": "text/x-python",
   "name": "python",
   "nbconvert_exporter": "python",
   "pygments_lexer": "ipython3",
   "version": "3.7.3"
  }
 },
 "nbformat": 4,
 "nbformat_minor": 2
}
